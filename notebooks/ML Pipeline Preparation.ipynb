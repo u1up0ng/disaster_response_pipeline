{
 "cells": [
  {
   "cell_type": "markdown",
   "metadata": {},
   "source": [
    "# ML Pipeline Preparation\n",
    "Follow the instructions below to help you create your ML pipeline.\n",
    "### 1. Import libraries and load data from database.\n",
    "- Import Python libraries\n",
    "- Load dataset from database with [`read_sql_table`](https://pandas.pydata.org/pandas-docs/stable/generated/pandas.read_sql_table.html)\n",
    "- Define feature and target variables X and Y"
   ]
  },
  {
   "cell_type": "code",
   "execution_count": null,
   "metadata": {},
   "outputs": [],
   "source": [
    "# import libraries\n",
    "import nltk\n",
    "nltk.download(['punkt', 'wordnet', 'stopwords'])"
   ]
  },
  {
   "cell_type": "code",
   "execution_count": 1,
   "metadata": {},
   "outputs": [],
   "source": [
    "import re\n",
    "import sys\n",
    "import numpy as np\n",
    "import pandas as pd\n",
    "import pickle\n",
    "\n",
    "from sqlalchemy import create_engine\n",
    "\n",
    "from nltk.tokenize import word_tokenize\n",
    "from nltk.stem import WordNetLemmatizer\n",
    "from nltk.corpus import stopwords\n",
    "\n",
    "from sklearn.feature_extraction.text import CountVectorizer, TfidfTransformer\n",
    "from sklearn.model_selection import train_test_split, GridSearchCV\n",
    "from sklearn.pipeline import Pipeline, FeatureUnion\n",
    "\n",
    "from sklearn.metrics import classification_report\n",
    "from sklearn.metrics import confusion_matrix\n",
    "\n",
    "from sklearn.ensemble import RandomForestClassifier\n",
    "from sklearn.multioutput import MultiOutputClassifier\n",
    "from sklearn.multiclass import OneVsRestClassifier\n",
    "from sklearn.svm import SVC\n",
    "\n"
   ]
  },
  {
   "cell_type": "code",
   "execution_count": 2,
   "metadata": {},
   "outputs": [],
   "source": [
    "# load data from database\n",
    "engine = create_engine('sqlite:///C:\\\\Users\\\\lv974m\\\\Documents\\\\u1up0ng\\\\data_scientist\\\\03_data_engineering\\\\Project_Disaster_Recovery\\\\data\\\\DisasterResponse.db')\n",
    "df = pd.read_sql('DisasterResponse', con=engine)\n"
   ]
  },
  {
   "cell_type": "markdown",
   "metadata": {},
   "source": [
    "### Explore Data"
   ]
  },
  {
   "cell_type": "code",
   "execution_count": null,
   "metadata": {},
   "outputs": [],
   "source": [
    "# check only \n",
    "df.tail(1)"
   ]
  },
  {
   "cell_type": "code",
   "execution_count": 35,
   "metadata": {},
   "outputs": [],
   "source": [
    "category_count =list((df.drop(df.iloc[:, :5], axis = 1)\n",
    "    .sum(axis = 0, skipna = True)\n",
    "    .sort_values(ascending=False).values)*100/len(df))"
   ]
  },
  {
   "cell_type": "code",
   "execution_count": 36,
   "metadata": {},
   "outputs": [
    {
     "data": {
      "text/plain": [
       "[41.42508391821788,\n",
       " 27.834147085749162,\n",
       " 19.358407079646017,\n",
       " 17.065913945682027,\n",
       " 13.144644491913335,\n",
       " 11.149679584986268,\n",
       " 9.364510222764723,\n",
       " 9.318736649374427,\n",
       " 8.826670735428745,\n",
       " 8.220170888007324,\n",
       " 7.949343912114739,\n",
       " 6.503661885871224,\n",
       " 6.377784559047909,\n",
       " 5.248703082087275,\n",
       " 5.084681110772047,\n",
       " 5.008391821788221,\n",
       " 4.581171803478791,\n",
       " 4.554470552334452,\n",
       " 4.390448581019225,\n",
       " 3.337656393042417,\n",
       " 3.2804394263045467,\n",
       " 2.7616722612145255,\n",
       " 2.3039365273115653,\n",
       " 2.0292950869697894,\n",
       " 2.021666158071407,\n",
       " 1.796612755569118,\n",
       " 1.54485810192249,\n",
       " 1.178669514800122,\n",
       " 1.1367104058590174,\n",
       " 1.0794934391211475,\n",
       " 1.0756789746719562,\n",
       " 0.606499847421422,\n",
       " 0.45773573390296,\n",
       " 0.45010680500457734,\n",
       " 0.0]"
      ]
     },
     "execution_count": 36,
     "metadata": {},
     "output_type": "execute_result"
    }
   ],
   "source": [
    "category_count"
   ]
  },
  {
   "cell_type": "code",
   "execution_count": 3,
   "metadata": {},
   "outputs": [
    {
     "data": {
      "text/plain": [
       "<AxesSubplot:>"
      ]
     },
     "execution_count": 3,
     "metadata": {},
     "output_type": "execute_result"
    },
    {
     "data": {
      "image/png": "[encoded data removed]",
      "text/plain": [
       "<Figure size 432x288 with 1 Axes>"
      ]
     },
     "metadata": {
      "needs_background": "light"
     },
     "output_type": "display_data"
    }
   ],
   "source": [
    "# bar graph of data, check only\n",
    "%matplotlib inline\n",
    "(df.drop(df.iloc[:, :4], axis = 1)\n",
    " .sum(axis = 0, skipna = True)\n",
    " .sort_values(ascending=False)\n",
    " .plot.bar())"
   ]
  },
  {
   "cell_type": "code",
   "execution_count": null,
   "metadata": {},
   "outputs": [],
   "source": [
    "# create X, y\n",
    "X = df['message'].values\n",
    "y = df.iloc[:,5:].values # exclude related, I don't know what this is for"
   ]
  },
  {
   "cell_type": "markdown",
   "metadata": {},
   "source": [
    "### 2. Write a tokenization function to process your text data"
   ]
  },
  {
   "cell_type": "code",
   "execution_count": null,
   "metadata": {},
   "outputs": [],
   "source": [
    "def tokenize(text):\n",
    "    '''\n",
    "    create lemmatized tokens from input texts\n",
    "    \n",
    "    input:          text\n",
    "    output:         clean tokens\n",
    "    '''\n",
    "    # remove punctuation, idea cam\n",
    "    text = re.sub(r\"[^a-zA-Z0-9]\", \" \", text)\n",
    "    \n",
    "    # initiate\n",
    "    tokens = word_tokenize(text)\n",
    "    lemmatizer = WordNetLemmatizer()\n",
    "    \n",
    "    # remove stop words\n",
    "    tokens = [t for t in tokens if t not in stopwords.words(\"english\")]\n",
    "    \n",
    "    # simplify words, nouns\n",
    "    clean_tokens = [lemmatizer.lemmatize(tok.lower().strip()) for tok in tokens]\n",
    "    \n",
    "    # simplfiy words, verb\n",
    "    clean_tokens = [lemmatizer.lemmatize(tok, pos='v') for tok in clean_tokens]\n",
    "\n",
    "    return clean_tokens"
   ]
  },
  {
   "cell_type": "code",
   "execution_count": null,
   "metadata": {},
   "outputs": [],
   "source": [
    "#check only\n",
    "print(X[0])\n",
    "print(tokenize(X[0]))"
   ]
  },
  {
   "cell_type": "markdown",
   "metadata": {},
   "source": [
    "### 3. Build a machine learning pipeline\n",
    "This machine pipeline should take in the `message` column as input and output classification results on the other 36 categories in the dataset. You may find the [MultiOutputClassifier](http://scikit-learn.org/stable/modules/generated/sklearn.multioutput.MultiOutputClassifier.html) helpful for predicting multiple target variables."
   ]
  },
  {
   "cell_type": "markdown",
   "metadata": {},
   "source": [
    "```python\n",
    "#create pipeliine\n",
    "pipeline = Pipeline([\n",
    "    ('text_pipeline', Pipeline([\n",
    "        ('vect', CountVectorizer(tokenizer=tokenize)),\n",
    "        ('tfidf', TfidfTransformer())\n",
    "    ])),\n",
    "    \n",
    "    ('clf', MultiOutputClassifier(RandomForestClassifier(random_state=42)))\n",
    "])\n",
    "```"
   ]
  },
  {
   "cell_type": "markdown",
   "metadata": {},
   "source": [
    "### 4. Train pipeline\n",
    "- Split data into train and test sets\n",
    "- Train pipeline"
   ]
  },
  {
   "cell_type": "code",
   "execution_count": null,
   "metadata": {},
   "outputs": [],
   "source": [
    "# split data test/train\n",
    "X_train, X_test, y_train, y_test = train_test_split(X, y, test_size=0.33, random_state=42)"
   ]
  },
  {
   "cell_type": "markdown",
   "metadata": {},
   "source": [
    "```python\n",
    "# train pipeline\n",
    "pipeline.fit(X_train,y_train)\n",
    "```"
   ]
  },
  {
   "cell_type": "markdown",
   "metadata": {},
   "source": [
    "### 5. Test your model\n",
    "Report the f1 score, precision and recall for each output category of the dataset. You can do this by iterating through the columns and calling sklearn's `classification_report` on each."
   ]
  },
  {
   "cell_type": "markdown",
   "metadata": {},
   "source": [
    "```python\n",
    "# predict\n",
    "y_pred = pipeline.predict(X_test)\n",
    "```"
   ]
  },
  {
   "cell_type": "markdown",
   "metadata": {},
   "source": [
    "```python\n",
    "# evaluate\n",
    "target_names = df.iloc[:, 5:].columns\n",
    "print(classification_report(y_test, y_pred, target_names=target_names, zero_division=0))\n",
    "```"
   ]
  },
  {
   "cell_type": "markdown",
   "metadata": {},
   "source": [
    "```python\n",
    "Pipeline(steps=[('text_pipeline',\n",
    "                 Pipeline(steps=[('vect',\n",
    "                                  CountVectorizer(tokenizer=<function tokenize at 0x000001A9E6B30EE8>)),\n",
    "                                 ('tfidf', TfidfTransformer())])),\n",
    "                ('clf',\n",
    "                 MultiOutputClassifier(estimator=RandomForestClassifier(max_depth=9,\n",
    "                                                                        max_features='log2',\n",
    "                                                                        min_samples_leaf=2,\n",
    "                                                                        n_estimators=190,\n",
    "                                                                        random_state=42)))])\n",
    "\n",
    "```"
   ]
  },
  {
   "cell_type": "markdown",
   "metadata": {},
   "source": [
    "### 6. Improve your model\n",
    "Use grid search to find better parameters. "
   ]
  },
  {
   "cell_type": "markdown",
   "metadata": {},
   "source": [
    "```python\n",
    "#check only\n",
    "pipeline.get_params()\n",
    "```"
   ]
  },
  {
   "cell_type": "markdown",
   "metadata": {},
   "source": [
    "```python\n",
    "# multiple parameters ahve been tried, this is the only one being exposed\n",
    "parameters = {'clf__estimator__n_estimators': [190, 200],\n",
    "              'clf__estimator__min_samples_split': [2, 3]}\n",
    "              \n",
    "cv = GridSearchCV(pipeline, n_jobs=-1, param_grid=parameters, cv = 3)\n",
    "```"
   ]
  },
  {
   "cell_type": "markdown",
   "metadata": {},
   "source": [
    "### 7. Test your model\n",
    "Show the accuracy, precision, and recall of the tuned model.  \n",
    "\n",
    "Since this project focuses on code quality, process, and  pipelines, there is no minimum performance metric needed to pass. However, make sure to fine tune your models for accuracy, precision and recall to make your project stand out - especially for your portfolio!"
   ]
  },
  {
   "cell_type": "markdown",
   "metadata": {},
   "source": [
    "```python\n",
    "#fit\n",
    "cv.fit(X_train, y_train)\n",
    "```"
   ]
  },
  {
   "cell_type": "markdown",
   "metadata": {},
   "source": [
    "```python\n",
    "# predict\n",
    "y_pred = cv.predict(X_test)\n",
    "target_names = df.iloc[:, 5:].columns\n",
    "print(classification_report(y_test, y_pred, target_names=target_names))\n",
    "```"
   ]
  },
  {
   "cell_type": "markdown",
   "metadata": {},
   "source": [
    "               precision    recall  f1-score   support\n",
    "               request       0.85      0.50      0.63      1472\n",
    "                 offer       0.00      0.00      0.00        38\n",
    "           aid_related       0.74      0.69      0.72      3545\n",
    "          medical_help       0.68      0.08      0.15       701\n",
    "      medical_products       0.80      0.06      0.12       446\n",
    "     search_and_rescue       0.44      0.02      0.03       226\n",
    "              security       0.00      0.00      0.00       160\n",
    "              military       0.62      0.06      0.10       267\n",
    "           child_alone       0.00      0.00      0.00         0\n",
    "                 water       0.87      0.42      0.57       543\n",
    "                  food       0.87      0.57      0.69       965\n",
    "               shelter       0.82      0.34      0.49       775\n",
    "              clothing       0.74      0.11      0.19       127\n",
    "                 money       0.75      0.03      0.06       191\n",
    "        missing_people       0.00      0.00      0.00       104\n",
    "              refugees       0.46      0.02      0.04       293\n",
    "                 death       0.91      0.13      0.22       406\n",
    "             other_aid       0.56      0.04      0.07      1139\n",
    "    infrastructure_related       0.00      0.00      0.00       568\n",
    "             transport       0.74      0.07      0.13       407\n",
    "             buildings       0.82      0.10      0.19       441\n",
    "           electricity       0.83      0.03      0.05       185\n",
    "                 tools       0.00      0.00      0.00        53\n",
    "             hospitals       0.00      0.00      0.00        85\n",
    "                 shops       0.00      0.00      0.00        34\n",
    "           aid_centers       0.00      0.00      0.00       115\n",
    "      other_infrastructure       0.00      0.00      0.00       383\n",
    "       weather_related       0.84      0.71      0.77      2390\n",
    "                floods       0.88      0.51      0.64       693\n",
    "                 storm       0.76      0.54      0.63       812\n",
    "                  fire       0.00      0.00      0.00        90\n",
    "            earthquake       0.88      0.79      0.83       787\n",
    "                  cold       0.83      0.05      0.10       187\n",
    "         other_weather       0.64      0.02      0.04       452\n",
    "         direct_report       0.78      0.35      0.49      1694\n",
    "\n",
    "             micro avg       0.80      0.40      0.53     20774\n",
    "             macro avg       0.52      0.18      0.23     20774\n",
    "          weighted avg       0.71      0.40      0.47     20774\n",
    "           samples avg       0.41      0.24      0.28     20774"
   ]
  },
  {
   "cell_type": "markdown",
   "metadata": {},
   "source": [
    "```python\n",
    "# find best parameters\n",
    "cv.best_estimator_\n",
    "```"
   ]
  },
  {
   "cell_type": "markdown",
   "metadata": {},
   "source": [
    "```python\n",
    "Pipeline(steps=[('text_pipeline',\n",
    "                 Pipeline(steps=[('vect',\n",
    "                                  CountVectorizer(tokenizer=<function tokenize at 0x000001E50A561438>)),\n",
    "                                 ('tfidf', TfidfTransformer())])),\n",
    "                ('clf',\n",
    "                 MultiOutputClassifier(estimator=RandomForestClassifier(n_estimators=200,\n",
    "                                                                        random_state=42)))]\n",
    "```"
   ]
  },
  {
   "cell_type": "markdown",
   "metadata": {},
   "source": [
    "### 8. Try improving your model further. Here are a few ideas:\n",
    "* try other machine learning algorithms\n",
    "* add other features besides the TF-IDF"
   ]
  },
  {
   "cell_type": "code",
   "execution_count": null,
   "metadata": {},
   "outputs": [],
   "source": [
    "#create pipeline for SVC\n",
    "pipeline = Pipeline([\n",
    "    ('text_pipeline', Pipeline([\n",
    "        ('vect', CountVectorizer(tokenizer=tokenize)),\n",
    "        ('tfidf', TfidfTransformer())\n",
    "    ])),\n",
    "    \n",
    "    ('clf', MultiOutputClassifier(OneVsRestClassifier(SVC(kernel='linear', \n",
    "                                                          random_state=42))))\n",
    "])"
   ]
  },
  {
   "cell_type": "code",
   "execution_count": null,
   "metadata": {},
   "outputs": [],
   "source": [
    "#check only\n",
    "pipeline.get_params()"
   ]
  },
  {
   "cell_type": "code",
   "execution_count": null,
   "metadata": {},
   "outputs": [],
   "source": [
    "# multiple parameters ahve been tried, this is the only one being exposed\n",
    "parameters = {'clf__estimator__estimator__C': [2, 3]}\n",
    "\n",
    "cv = GridSearchCV(pipeline, n_jobs=-1, param_grid=parameters, cv = 3)"
   ]
  },
  {
   "cell_type": "code",
   "execution_count": null,
   "metadata": {
    "scrolled": true
   },
   "outputs": [],
   "source": [
    "# train pipeline\n",
    "cv.fit(X_train,y_train)"
   ]
  },
  {
   "cell_type": "code",
   "execution_count": null,
   "metadata": {},
   "outputs": [],
   "source": [
    "# predict\n",
    "y_pred = cv.predict(X_test)"
   ]
  },
  {
   "cell_type": "code",
   "execution_count": null,
   "metadata": {},
   "outputs": [],
   "source": [
    "# evaluate\n",
    "target_names = df.iloc[:, 5:].columns\n",
    "print(classification_report(y_test, y_pred, target_names=target_names, zero_division=0))"
   ]
  },
  {
   "cell_type": "code",
   "execution_count": null,
   "metadata": {},
   "outputs": [],
   "source": [
    "# find best parameters\n",
    "print(cv.best_estimator_)"
   ]
  },
  {
   "cell_type": "markdown",
   "metadata": {},
   "source": [
    "### 9. Export your model as a pickle file"
   ]
  },
  {
   "cell_type": "code",
   "execution_count": null,
   "metadata": {},
   "outputs": [],
   "source": [
    "#export to pickle\n",
    "pickle.dump(pipeline, open('../models/classifier.pkl', 'wb'))"
   ]
  },
  {
   "cell_type": "markdown",
   "metadata": {},
   "source": [
    "### 10. Use this notebook to complete `train.py`\n",
    "Use the template file attached in the Resources folder to write a script that runs the steps above to create a database and export a model based on a new dataset specified by the user."
   ]
  },
  {
   "cell_type": "markdown",
   "metadata": {},
   "source": [
    "u1up0ng 20200907"
   ]
  }
 ],
 "metadata": {
  "kernelspec": {
   "display_name": "Python 3",
   "language": "python",
   "name": "python3"
  },
  "language_info": {
   "codemirror_mode": {
    "name": "ipython",
    "version": 3
   },
   "file_extension": ".py",
   "mimetype": "text/x-python",
   "name": "python",
   "nbconvert_exporter": "python",
   "pygments_lexer": "ipython3",
   "version": "3.7.9"
  }
 },
 "nbformat": 4,
 "nbformat_minor": 2
}
